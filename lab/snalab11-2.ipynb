{
  "nbformat": 4,
  "nbformat_minor": 0,
  "metadata": {
    "colab": {
      "provenance": []
    },
    "kernelspec": {
      "name": "python3",
      "display_name": "Python 3"
    },
    "language_info": {
      "name": "python"
    }
  },
  "cells": [
    {
      "cell_type": "code",
      "execution_count": 1,
      "metadata": {
        "colab": {
          "base_uri": "https://localhost:8080/"
        },
        "id": "kz0JZeBPJOxO",
        "outputId": "4fce40d8-1738-42ab-a7ae-7ef636a3567e"
      },
      "outputs": [
        {
          "output_type": "stream",
          "name": "stdout",
          "text": [
            "Collecting linkpred\n",
            "  Downloading linkpred-0.6-py3-none-any.whl.metadata (5.5 kB)\n",
            "Requirement already satisfied: matplotlib>=3.5 in /usr/local/lib/python3.11/dist-packages (from linkpred) (3.10.0)\n",
            "Requirement already satisfied: networkx>=3.0 in /usr/local/lib/python3.11/dist-packages (from linkpred) (3.4.2)\n",
            "Requirement already satisfied: numpy>=1.23 in /usr/local/lib/python3.11/dist-packages (from linkpred) (2.0.2)\n",
            "Requirement already satisfied: pyyaml>=3.0 in /usr/local/lib/python3.11/dist-packages (from linkpred) (6.0.2)\n",
            "Requirement already satisfied: scipy>=1.10 in /usr/local/lib/python3.11/dist-packages (from linkpred) (1.14.1)\n",
            "Collecting smokesignal>=0.7 (from linkpred)\n",
            "  Downloading smokesignal-0.7.0.tar.gz (5.9 kB)\n",
            "  Preparing metadata (setup.py) ... \u001b[?25l\u001b[?25hdone\n",
            "Requirement already satisfied: contourpy>=1.0.1 in /usr/local/lib/python3.11/dist-packages (from matplotlib>=3.5->linkpred) (1.3.1)\n",
            "Requirement already satisfied: cycler>=0.10 in /usr/local/lib/python3.11/dist-packages (from matplotlib>=3.5->linkpred) (0.12.1)\n",
            "Requirement already satisfied: fonttools>=4.22.0 in /usr/local/lib/python3.11/dist-packages (from matplotlib>=3.5->linkpred) (4.57.0)\n",
            "Requirement already satisfied: kiwisolver>=1.3.1 in /usr/local/lib/python3.11/dist-packages (from matplotlib>=3.5->linkpred) (1.4.8)\n",
            "Requirement already satisfied: packaging>=20.0 in /usr/local/lib/python3.11/dist-packages (from matplotlib>=3.5->linkpred) (24.2)\n",
            "Requirement already satisfied: pillow>=8 in /usr/local/lib/python3.11/dist-packages (from matplotlib>=3.5->linkpred) (11.1.0)\n",
            "Requirement already satisfied: pyparsing>=2.3.1 in /usr/local/lib/python3.11/dist-packages (from matplotlib>=3.5->linkpred) (3.2.3)\n",
            "Requirement already satisfied: python-dateutil>=2.7 in /usr/local/lib/python3.11/dist-packages (from matplotlib>=3.5->linkpred) (2.8.2)\n",
            "Requirement already satisfied: six>=1.5 in /usr/local/lib/python3.11/dist-packages (from python-dateutil>=2.7->matplotlib>=3.5->linkpred) (1.17.0)\n",
            "Downloading linkpred-0.6-py3-none-any.whl (28 kB)\n",
            "Building wheels for collected packages: smokesignal\n",
            "  Building wheel for smokesignal (setup.py) ... \u001b[?25l\u001b[?25hdone\n",
            "  Created wheel for smokesignal: filename=smokesignal-0.7.0-py3-none-any.whl size=6030 sha256=13aec4ca99e9bc9f5900aaeaa27a1a438aae01701cc3723b8ca187330cf1f2e1\n",
            "  Stored in directory: /root/.cache/pip/wheels/dd/61/b2/4d7520f5b9b3e236bdef080edef4420f2203711b8f9279015f\n",
            "Successfully built smokesignal\n",
            "Installing collected packages: smokesignal, linkpred\n",
            "Successfully installed linkpred-0.6 smokesignal-0.7.0\n"
          ]
        }
      ],
      "source": [
        "!pip install linkpred"
      ]
    },
    {
      "cell_type": "code",
      "source": [
        "import linkpred"
      ],
      "metadata": {
        "id": "OMEo7tc0JXMT"
      },
      "execution_count": 2,
      "outputs": []
    },
    {
      "cell_type": "code",
      "source": [
        "%matplotlib inline\n",
        "import matplotlib.pyplot as plt\n",
        "import networkx as nx"
      ],
      "metadata": {
        "id": "cs2ECGJvJcvi"
      },
      "execution_count": 3,
      "outputs": []
    },
    {
      "cell_type": "code",
      "source": [
        "def read_net_w(filename):\n",
        "  g = nx.Graph()\n",
        "  with open(filename) as f:\n",
        "    f.readline()\n",
        "    for l in f:\n",
        "      l = l.split(\",\")\n",
        "      g.add_edge(l[0], l[1], weight=int(l[2]))\n",
        "  return g"
      ],
      "metadata": {
        "id": "kHW9GjA_Jjs8"
      },
      "execution_count": 4,
      "outputs": []
    },
    {
      "cell_type": "code",
      "source": [
        "g = read_net_w(f'got-s6-edges.csv')"
      ],
      "metadata": {
        "id": "0gFc9IkqJsc6"
      },
      "execution_count": 5,
      "outputs": []
    },
    {
      "cell_type": "code",
      "source": [
        "cn = linkpred.predictors.CommonNeighbours(g, excluded=g.edges()) # We aim to predict onl\n",
        "cn_results = cn.predict()\n",
        "\n",
        "top = cn_results.top(5)\n",
        "for edge, score in top.items():\n",
        "  print(edge, score)\n"
      ],
      "metadata": {
        "colab": {
          "base_uri": "https://localhost:8080/"
        },
        "id": "HrtYvn1HJ2e7",
        "outputId": "0c999abc-1323-42e6-f2e6-8031d425c395"
      },
      "execution_count": 6,
      "outputs": [
        {
          "output_type": "stream",
          "name": "stdout",
          "text": [
            "TOMMEN - MACE 8.0\n",
            "NED - LADY_CRANE 8.0\n",
            "NED - CLARENZO 8.0\n",
            "MARGAERY - IZEMBARO 8.0\n",
            "MARGAERY - ARYA 8.0\n"
          ]
        }
      ]
    },
    {
      "cell_type": "code",
      "source": [
        "jc = linkpred.predictors.Jaccard(g, excluded=g.edges())\n",
        "jc_results = jc.predict()\n",
        "\n",
        "top = jc_results.top(5)\n",
        "for edge, score in top.items():\n",
        "  print(edge, score)"
      ],
      "metadata": {
        "colab": {
          "base_uri": "https://localhost:8080/"
        },
        "id": "nW76lKqVKGKo",
        "outputId": "44e199db-ef27-4dcd-ec27-162f17c42f32"
      },
      "execution_count": 7,
      "outputs": [
        {
          "output_type": "stream",
          "name": "stdout",
          "text": [
            "RED_PRIEST - KINVARA 1.0\n",
            "LITTLE_SAM - DICKON 1.0\n",
            "TOMMEN - MACE 0.7272727272727273\n",
            "JOFFREY - CAMELLO 0.7272727272727273\n",
            "OLD_NAN - BENJEN 0.7142857142857143\n"
          ]
        }
      ]
    },
    {
      "cell_type": "code",
      "source": [
        "aa = linkpred.predictors.AdamicAdar(g, excluded=g.edges())\n",
        "aa_results = aa.predict()\n",
        "\n",
        "top = aa_results.top(5)\n",
        "for edge, score in top.items():\n",
        "  print(edge, score)"
      ],
      "metadata": {
        "colab": {
          "base_uri": "https://localhost:8080/"
        },
        "id": "tOY1LcdtKIqo",
        "outputId": "b1ede1d0-7a41-4a47-e71d-a785e4b87569"
      },
      "execution_count": 8,
      "outputs": [
        {
          "output_type": "stream",
          "name": "stdout",
          "text": [
            "TOMMEN - MACE 3.1875572810307893\n",
            "NED - LADY_CRANE 3.126371165725783\n",
            "NED - CLARENZO 3.126371165725783\n",
            "SANSA - ROBB 3.096644315133246\n",
            "JOFFREY - CAMELLO 2.8944937119329137\n"
          ]
        }
      ]
    },
    {
      "cell_type": "code",
      "source": [
        "kz = linkpred.predictors.Katz(g, excluded=g.edges())\n",
        "kz_results = kz.predict()\n",
        "\n",
        "top = kz_results.top(5)\n",
        "for edge, score in top.items():\n",
        "  print(edge, score)"
      ],
      "metadata": {
        "colab": {
          "base_uri": "https://localhost:8080/"
        },
        "id": "Yfq0FqVeKWTR",
        "outputId": "fb9b8043-4109-46a7-cf25-a36da1fe14de"
      },
      "execution_count": 9,
      "outputs": [
        {
          "output_type": "stream",
          "name": "stdout",
          "text": [
            "\n",
            "LADY_CRANE - JAQEN 0.005571576860773001\n",
            "SANSA - ALLISER_THORNE 0.004234378077202\n",
            "TYRION - DAARIO 0.004145905054793999\n",
            "CERSEI - BRIENNE 0.0038862606857720003\n",
            "MELISANDRE - LYANNA_MORMONT 0.0035937193855959996\n"
          ]
        }
      ]
    },
    {
      "cell_type": "code",
      "source": [
        "gd = linkpred.predictors.GraphDistance(g, excluded=g.edges())\n",
        "gd_results = gd.predict()\n",
        "\n",
        "top = gd_results.top(5)\n",
        "for edge, score in top.items():\n",
        "  print(edge, score)"
      ],
      "metadata": {
        "colab": {
          "base_uri": "https://localhost:8080/"
        },
        "id": "K8ztZIsgKcip",
        "outputId": "709f9556-9a87-4db5-f4e4-3cfa92cde282"
      },
      "execution_count": 10,
      "outputs": [
        {
          "output_type": "stream",
          "name": "stdout",
          "text": [
            "LADY_CRANE - JAQEN 36.136054421768705\n",
            "TYRION - DAARIO 30.29268292682927\n",
            "CERSEI - BRIENNE 28.44827586206896\n",
            "MELISANDRE - LITTLEFINGER 23.427491305005294\n",
            "CERSEI - BRONN 23.294117647058822\n"
          ]
        }
      ]
    },
    {
      "cell_type": "code",
      "source": [
        "simrank = linkpred.predictors.SimRank(g, excluded=g.edges())\n",
        "simrank_results = simrank.predict(c=0.5)\n",
        "\n",
        "top = simrank_results.top(5)\n",
        "for edge, score in top.items():\n",
        "  print(edge, score)"
      ],
      "metadata": {
        "colab": {
          "base_uri": "https://localhost:8080/"
        },
        "id": "mD6eRACjKkJR",
        "outputId": "1c0bce01-1926-4c45-f575-bce95ceed1f5"
      },
      "execution_count": 11,
      "outputs": [
        {
          "output_type": "stream",
          "name": "stdout",
          "text": [
            "MAESTER_CITADEL - MAESTER_AEMON 0.3920701611834253\n",
            "RAY - GATINS 0.3886464843365491\n",
            "GATINS - BERIC 0.3675791855431439\n",
            "THOROS - GATINS 0.3636591552182033\n",
            "MAESTER_AEMON - GILLY 0.319889623157789\n"
          ]
        }
      ]
    },
    {
      "cell_type": "code",
      "source": [
        "rnd = linkpred.predictors.Random(g, excluded=g.edges())\n",
        "rnd_results = rnd.predict()\n",
        "\n",
        "top = simrank_results.top(5)\n",
        "for edge, score in top.items():\n",
        "  print(edge, score)"
      ],
      "metadata": {
        "colab": {
          "base_uri": "https://localhost:8080/"
        },
        "id": "zCswQ_eRKuPl",
        "outputId": "7722bf02-aeb9-4ce7-e8c8-82e9141e3d37"
      },
      "execution_count": 12,
      "outputs": [
        {
          "output_type": "stream",
          "name": "stdout",
          "text": [
            "MAESTER_CITADEL - MAESTER_AEMON 0.3920701611834253\n",
            "RAY - GATINS 0.3886464843365491\n",
            "GATINS - BERIC 0.3675791855431439\n",
            "THOROS - GATINS 0.3636591552182033\n",
            "MAESTER_AEMON - GILLY 0.319889623157789\n"
          ]
        }
      ]
    },
    {
      "cell_type": "code",
      "source": [
        "import random\n",
        "import itertools\n",
        "from linkpred.evaluation import Pair\n",
        "\n",
        "# Building the test network\n",
        "test = read_net_w(f'got-s7-edges.csv')\n",
        "\n",
        "# Exclude test network from learning phase\n",
        "training = g.copy()\n",
        "\n",
        "# Node set\n",
        "nodes = list(g.nodes())\n",
        "nodes.extend(list(test.nodes()))\n",
        "\n",
        "test = [Pair(i) for i in test.edges()]\n",
        "universe = set([Pair(i) for i in itertools.product(nodes, nodes) if i[0]!=i[1]])"
      ],
      "metadata": {
        "id": "n9sCdlNOKzYQ"
      },
      "execution_count": 13,
      "outputs": []
    },
    {
      "cell_type": "code",
      "source": [
        "cn = linkpred.predictors.CommonNeighbours(training, excluded=training.edges())\n",
        "cn_results = cn.predict()\n",
        "\n",
        "aa = linkpred.predictors.AdamicAdar(training, excluded=training.edges())\n",
        "aa_results = aa.predict()\n",
        "\n",
        "jc = linkpred.predictors.Jaccard(training, excluded=training.edges())\n",
        "jc_results = jc.predict()"
      ],
      "metadata": {
        "id": "g0plMs6vK7jb"
      },
      "execution_count": 14,
      "outputs": []
    },
    {
      "cell_type": "code",
      "source": [
        "cn_evaluation = linkpred.evaluation.EvaluationSheet(cn_results, test, universe)\n",
        "aa_evaluation = linkpred.evaluation.EvaluationSheet(aa_results, test, universe)\n",
        "jc_evaluation = linkpred.evaluation.EvaluationSheet(jc_results, test, universe)"
      ],
      "metadata": {
        "id": "Yxl5Jrt7LIGB"
      },
      "execution_count": 15,
      "outputs": []
    },
    {
      "cell_type": "code",
      "source": [
        "plt.plot(cn_evaluation.fallout(), cn_evaluation.recall(), label=\"Common Neighbors\")\n",
        "plt.plot(aa_evaluation.fallout(), aa_evaluation.recall(), label=\"Adamic Adar\")\n",
        "plt.plot(jc_evaluation.fallout(), jc_evaluation.recall(), label=\"Jaccard\")\n",
        "plt.ylabel(\"TPR\")\n",
        "plt.xlabel(\"FPR\")\n",
        "plt.legend()\n",
        "plt.show()"
      ],
      "metadata": {
        "colab": {
          "base_uri": "https://localhost:8080/",
          "height": 449
        },
        "id": "ztlpe7NiLLYh",
        "outputId": "1ca5ba9b-b944-4f49-9f71-a2dbef88ba01"
      },
      "execution_count": 16,
      "outputs": [
        {
          "output_type": "display_data",
          "data": {
            "text/plain": [
              "<Figure size 640x480 with 1 Axes>"
            ],
            "image/png": "[encoded data removed]"
          },
          "metadata": {}
        }
      ]
    },
    {
      "cell_type": "code",
      "source": [
        "from sklearn.metrics import auc\n",
        "\n",
        "print(\"Area Under Roc Curve (AUROC)\")\n",
        "print(f\"Common Neigh.: \\t {auc(cn_evaluation.fallout(), cn_evaluation.recall())}\")\n",
        "print(f\"Adamic Adar: \\t {auc(aa_evaluation.fallout(), aa_evaluation.recall())}\")\n",
        "print(f\"Jaccard: \\t {auc(jc_evaluation.fallout(), jc_evaluation.recall())}\")"
      ],
      "metadata": {
        "colab": {
          "base_uri": "https://localhost:8080/"
        },
        "id": "_tluoJ9LLPgq",
        "outputId": "95e41c6d-5c78-48ba-8fc1-14f04d49564a"
      },
      "execution_count": 17,
      "outputs": [
        {
          "output_type": "stream",
          "name": "stdout",
          "text": [
            "Area Under Roc Curve (AUROC)\n",
            "Common Neigh.: \t 0.026832485313825823\n",
            "Adamic Adar: \t 0.02725982481278175\n",
            "Jaccard: \t 0.018894838921578106\n"
          ]
        }
      ]
    },
    {
      "cell_type": "markdown",
      "source": [
        "Даалгавар:\n",
        "1. Jaccard болон Adamic Adar хоёр яагаад ялгаатай үр дүн үзүүлж байна вэ? Тайлбарлана уу.\n",
        "2. linkpred санг ашиглан desicion tree алгоритмаар холбоосыг илрүүлж болох уу."
      ],
      "metadata": {
        "id": "y8icgRohN59l"
      }
    },
    {
      "cell_type": "markdown",
      "source": [
        "1. Эдгээр хоёр арга нь node хоорондын төстэй байдал (similarity)-г өөр өөрөөр хэмждэг:\n",
        "\n",
        "Jaccard Similarity:\n",
        "\n",
        "Томьёо:\n",
        "J\n",
        "a\n",
        "c\n",
        "c\n",
        "a\n",
        "r\n",
        "d\n",
        "(\n",
        "u\n",
        ",\n",
        "v\n",
        ")\n",
        "=\n",
        "∣\n",
        "Γ\n",
        "(\n",
        "u\n",
        ")\n",
        "∩\n",
        "Γ\n",
        "(\n",
        "v\n",
        ")\n",
        "∣\n",
        "∣\n",
        "Γ\n",
        "(\n",
        "u\n",
        ")\n",
        "∪\n",
        "Γ\n",
        "(\n",
        "v\n",
        ")\n",
        "∣\n",
        "Jaccard(u,v)=\n",
        "∣Γ(u)∪Γ(v)∣\n",
        "∣Γ(u)∩Γ(v)∣\n",
        "​\n",
        "\n",
        "(энд\n",
        "Γ\n",
        "(\n",
        "u\n",
        ")\n",
        "Γ(u)\n",
        " гэдэг нь node u-ийн хөршүүдийн олонлог)\n",
        "Зөвхөн нийтлэг хөршийн тоо (common neighbors) болон нийт хөршүүдийн нийлбэр дээр үндэслэнэ.\n",
        "Бүх хөршүүдийг тэгш жинтэй гэж үздэг (equal weight).\n",
        "Хэрэв хоёр node олон нийтлэг хөрштэй байвал өндөр утга авна.\n",
        "\n",
        "Adamic-Adar Index:\n",
        "\n",
        "Томьёо:\n",
        "A\n",
        "A\n",
        "(\n",
        "u\n",
        ",\n",
        "v\n",
        ")\n",
        "=\n",
        "∑\n",
        "w\n",
        "∈\n",
        "Γ\n",
        "(\n",
        "u\n",
        ")\n",
        "∩\n",
        "Γ\n",
        "(\n",
        "v\n",
        ")\n",
        "1\n",
        "log\n",
        "⁡\n",
        "∣\n",
        "Γ\n",
        "(\n",
        "w\n",
        ")\n",
        "∣\n",
        "AA(u,v)=\n",
        "w∈Γ(u)∩Γ(v)\n",
        "∑\n",
        "​\n",
        "  \n",
        "log∣Γ(w)∣\n",
        "1\n",
        "​\n",
        "\n",
        "Нийтлэг хөрш бүрийн харьцангуй ховор байдал (rarity)-д үндэслэнэ.\n",
        "Хэрвээ нийтлэг хөрш w нь маш олон холбоос (high degree)-той бол түүний жин багасна.\n",
        "Ховор хөрштэй байх нь илүү чухал гэж үздэг.\n",
        "\n",
        "Ялгааны шалтгаан:\n",
        "\n",
        "Jaccard нь ерөнхий дундаж төстэй байдлыг харуулдаг бол,\n",
        "Adamic-Adar нь онцгой, ховор хөршүүдийг илүү өндөр үнэлдэг.\n",
        "Иймээс тухайн графын бүтэц (жишээ нь, degree distribution) дээрээс хамаарч хоёр арга өөр өөр үр дүн гаргана.\n"
      ],
      "metadata": {
        "id": "d5Ye10JON74d"
      }
    },
    {
      "cell_type": "markdown",
      "source": [
        "2.  linkpred сангийн талаар:\n",
        "\n",
        "1. Энэ сан нь unsupervised болон supervised аргуудаар node хоорондын холбоосыг урьдчилан таамаглахад ашиглагддаг.\n",
        "\n",
        "2. linkpred-ийн supervised mode нь SVM, logistic regression гэх мэт зарим ML загваруудыг ашиглаж чаддаг.\n",
        "\n",
        "Decision Tree ашиглаж болох уу?:\n",
        "\n",
        "1. Тийм, гэхдээ linkpred сан дотроо Decision Tree-ийг шууд дэмждэггүй.\n",
        "\n",
        "1. Гэсэн ч дараах байдлаар ашиглаж болно:\n",
        "\n",
        "   1. linkpred-ийг ашиглан node хооронд feature-үүд (жишээ нь: Jaccard, Adamic-Adar гэх мэт) үүсгэнэ.\n",
        "\n",
        "  2. Эдгээр feature-үүдийг .to_dataframe() зэрэг функцээр гаргаж авна.\n",
        "\n",
        "  3. Гарсан датагаа scikit-learn-ийн DecisionTreeClassifier руу оруулан supervised learning хийнэ."
      ],
      "metadata": {
        "id": "Z-tBM4JBPAOC"
      }
    },
    {
      "cell_type": "code",
      "source": [
        "from sklearn.tree import DecisionTreeClassifier\n",
        "from sklearn.model_selection import train_test_split\n",
        "\n",
        "X = df[[\"jaccard\", \"adamic_adar\"]]  # Feature-үүд\n",
        "y = df[\"label\"]                     # True/False буюу холбоостой эсэх\n",
        "\n",
        "X_train, X_test, y_train, y_test = train_test_split(X, y)\n",
        "\n",
        "clf = DecisionTreeClassifier()\n",
        "clf.fit(X_train, y_train)\n",
        "\n",
        "print(\"Accuracy:\", clf.score(X_test, y_test))\n"
      ],
      "metadata": {
        "id": "WLoD-R4KPpCh"
      },
      "execution_count": null,
      "outputs": []
    },
    {
      "cell_type": "markdown",
      "source": [
        "Дүгнэлт:\n",
        "\n",
        "linkpred-ийг feature generator байдлаар ашиглаж болно.\n",
        "Decision Tree загварыг гадаад талаас (scikit-learn) ашиглан supervised link prediction хийж болно."
      ],
      "metadata": {
        "id": "H8sO7YAlPp-a"
      }
    }
  ]
}